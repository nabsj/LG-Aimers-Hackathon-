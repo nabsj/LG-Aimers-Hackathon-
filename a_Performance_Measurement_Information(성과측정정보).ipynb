{
 "cells": [
  {
   "cell_type": "code",
   "execution_count": 32,
   "id": "63e61ee0-3715-4115-b464-ead121e1f02a",
   "metadata": {},
   "outputs": [],
   "source": [
    "import pandas as pd\n",
    "import matplotlib.pyplot as plt\n",
    "import seaborn as sns\n",
    "from sklearn.metrics import (\n",
    "    accuracy_score,\n",
    "    confusion_matrix,\n",
    "    f1_score,\n",
    "    precision_score,\n",
    "    recall_score,\n",
    ")\n",
    "%matplotlib inline\n",
    "\n",
    "# 데이터 불러오기\n",
    "df_train = pd.read_csv('./train.csv')\n",
    "df_test = pd.read_csv('./submission.csv')"
   ]
  },
  {
   "cell_type": "code",
   "execution_count": 33,
   "id": "e3b799ac-c878-49ff-874d-bb75cd00162d",
   "metadata": {},
   "outputs": [],
   "source": [
    "col = [\n",
    "    'historical_existing_cnt', #이전에 Converted된 횟수\n",
    "    'com_reg_ver_win_rate', #비즈니스 단위 및 지역을 기준으로 한 영업 전환 비율\n",
    "    'ver_win_rate_x', # 전체 Lead 중에서 Vertical을 기준으로 한 성공 비율\n",
    "    'ver_win_ratio_per_bu', #특정 Vertical Level1의 Business Unit 별 영업 전환된 샘플 수의 비율\n",
    "    'is_converted',\n",
    "]"
   ]
  },
  {
   "cell_type": "code",
   "execution_count": 34,
   "id": "d12b688d-0cd8-41bf-88da-bde32058e25f",
   "metadata": {},
   "outputs": [],
   "source": [
    "df_train = df_train[col]\n",
    "df_test = df_test[col]"
   ]
  },
  {
   "cell_type": "code",
   "execution_count": 35,
   "id": "6025e6ff-bbed-4b25-b7fd-aa11f65589ec",
   "metadata": {},
   "outputs": [
    {
     "name": "stdout",
     "output_type": "stream",
     "text": [
      "Number of Total Train length: 59299\n",
      "Number of True: 4850\n",
      "Number of Total Test length: 5271\n"
     ]
    }
   ],
   "source": [
    "# True로 예측된 개수\n",
    "num_true = sum(df_train['is_converted'] == 1)\n",
    "print(f'Number of Total Train length: {len(df_train)}')\n",
    "print(f\"Number of True: {num_true}\")\n",
    "print(f'Number of Total Test length: {len(df_test)}')"
   ]
  },
  {
   "cell_type": "code",
   "execution_count": 36,
   "id": "10ab07f0-1ba7-42a8-adac-fb49820b493f",
   "metadata": {},
   "outputs": [
    {
     "name": "stdout",
     "output_type": "stream",
     "text": [
      "<class 'pandas.core.frame.DataFrame'>\n",
      "RangeIndex: 59299 entries, 0 to 59298\n",
      "Data columns (total 5 columns):\n",
      " #   Column                   Non-Null Count  Dtype  \n",
      "---  ------                   --------------  -----  \n",
      " 0   historical_existing_cnt  13756 non-null  float64\n",
      " 1   com_reg_ver_win_rate     14568 non-null  float64\n",
      " 2   ver_win_rate_x           18417 non-null  float64\n",
      " 3   ver_win_ratio_per_bu     15304 non-null  float64\n",
      " 4   is_converted             59299 non-null  bool   \n",
      "dtypes: bool(1), float64(4)\n",
      "memory usage: 1.9 MB\n"
     ]
    }
   ],
   "source": [
    "df_train.info()"
   ]
  },
  {
   "cell_type": "markdown",
   "id": "4b1bd539-f4a0-49e4-b2d4-0d4bb927b6e1",
   "metadata": {},
   "source": [
    "# historical_existing_cnt  "
   ]
  },
  {
   "cell_type": "code",
   "execution_count": 37,
   "id": "eaf82c3d-39bc-41a3-823f-35268c553ea6",
   "metadata": {},
   "outputs": [],
   "source": [
    "df_train['historical_existing_cnt'] = df_train['historical_existing_cnt'].fillna(0).astype('float64')\n",
    "df_test['historical_existing_cnt'] = df_test['historical_existing_cnt'].fillna(0).astype('float64')"
   ]
  },
  {
   "cell_type": "code",
   "execution_count": null,
   "id": "bf7929ee-7f68-476d-a369-e02253a2ac11",
   "metadata": {},
   "outputs": [],
   "source": []
  },
  {
   "cell_type": "markdown",
   "id": "f877bafd-b1a0-410f-9e7c-ec8899f25492",
   "metadata": {},
   "source": [
    "# com_reg_ver_win_rate"
   ]
  },
  {
   "cell_type": "code",
   "execution_count": 39,
   "id": "a9616817-f2fe-4141-8962-0a1032ed1a4a",
   "metadata": {},
   "outputs": [],
   "source": [
    "df_train['com_reg_ver_win_rate'] = df_train['com_reg_ver_win_rate'].fillna(0).astype('float64')\n",
    "df_test['com_reg_ver_win_rate'] = df_test['com_reg_ver_win_rate'].fillna(0).astype('float64')"
   ]
  },
  {
   "cell_type": "code",
   "execution_count": 40,
   "id": "f0a670b2-edf4-4698-9129-671973881023",
   "metadata": {},
   "outputs": [
    {
     "data": {
      "text/plain": [
       "0        0.066667\n",
       "1        0.066667\n",
       "2        0.088889\n",
       "3        0.088889\n",
       "4        0.088889\n",
       "           ...   \n",
       "59294    0.000000\n",
       "59295    0.040000\n",
       "59296    0.040000\n",
       "59297    0.040000\n",
       "59298    0.000000\n",
       "Name: com_reg_ver_win_rate, Length: 59299, dtype: float64"
      ]
     },
     "execution_count": 40,
     "metadata": {},
     "output_type": "execute_result"
    }
   ],
   "source": [
    "df_train['com_reg_ver_win_rate']"
   ]
  },
  {
   "cell_type": "code",
   "execution_count": null,
   "id": "665bf5b3-de85-408d-917e-999640beb046",
   "metadata": {},
   "outputs": [],
   "source": []
  },
  {
   "cell_type": "markdown",
   "id": "cf7a0b3a-f2a4-42a7-8a9c-761383449090",
   "metadata": {},
   "source": [
    "# ver_win_rate_x"
   ]
  },
  {
   "cell_type": "code",
   "execution_count": 41,
   "id": "0d1c465e-9987-4798-a313-b2a47f4004e0",
   "metadata": {},
   "outputs": [
    {
     "data": {
      "text/plain": [
       "0        0.003079\n",
       "1        0.003079\n",
       "2        0.003079\n",
       "3        0.003079\n",
       "4        0.003079\n",
       "           ...   \n",
       "59294    0.000026\n",
       "59295    0.000026\n",
       "59296    0.000026\n",
       "59297    0.000026\n",
       "59298    0.000026\n",
       "Name: ver_win_rate_x, Length: 59299, dtype: float64"
      ]
     },
     "execution_count": 41,
     "metadata": {},
     "output_type": "execute_result"
    }
   ],
   "source": [
    "df_train['ver_win_rate_x']"
   ]
  },
  {
   "cell_type": "code",
   "execution_count": 42,
   "id": "f72eadf4-ffcb-4f70-8586-f0d6de25007e",
   "metadata": {},
   "outputs": [],
   "source": [
    "df_train['ver_win_rate_x'] = df_train['ver_win_rate_x'].fillna(0).astype('float64')\n",
    "df_test['ver_win_rate_x'] = df_test['ver_win_rate_x'].fillna(0).astype('float64')"
   ]
  },
  {
   "cell_type": "code",
   "execution_count": null,
   "id": "91001cf4-3d1a-44c8-91f5-d17c7c2355d8",
   "metadata": {},
   "outputs": [],
   "source": []
  },
  {
   "cell_type": "markdown",
   "id": "ecb0a301-268f-42f4-bd75-540e1a6543fc",
   "metadata": {},
   "source": [
    "# ver_win_ratio_per_bu"
   ]
  },
  {
   "cell_type": "code",
   "execution_count": 43,
   "id": "d4ba399c-c9b7-4ed5-a719-b612e9ead5fe",
   "metadata": {},
   "outputs": [
    {
     "data": {
      "text/plain": [
       "0        0.026846\n",
       "1        0.026846\n",
       "2        0.026846\n",
       "3        0.026846\n",
       "4        0.026846\n",
       "           ...   \n",
       "59294    0.028777\n",
       "59295    0.028777\n",
       "59296    0.028777\n",
       "59297    0.028777\n",
       "59298         NaN\n",
       "Name: ver_win_ratio_per_bu, Length: 59299, dtype: float64"
      ]
     },
     "execution_count": 43,
     "metadata": {},
     "output_type": "execute_result"
    }
   ],
   "source": [
    "df_train['ver_win_ratio_per_bu']"
   ]
  },
  {
   "cell_type": "code",
   "execution_count": 44,
   "id": "1d1774a5-f779-4d13-bc2a-35d285eaacba",
   "metadata": {},
   "outputs": [],
   "source": [
    "df_train['ver_win_ratio_per_bu'] = df_train['ver_win_ratio_per_bu'].fillna(0).astype('float64')\n",
    "df_test['ver_win_ratio_per_bu'] = df_test['ver_win_ratio_per_bu'].fillna(0).astype('float64')"
   ]
  },
  {
   "cell_type": "code",
   "execution_count": null,
   "id": "c9009dc2-df48-4aee-a3a5-1d24f48480f6",
   "metadata": {},
   "outputs": [],
   "source": []
  },
  {
   "cell_type": "code",
   "execution_count": null,
   "id": "cfbd6258-d624-46a8-8dbe-37e20f9ba312",
   "metadata": {},
   "outputs": [],
   "source": []
  },
  {
   "cell_type": "code",
   "execution_count": null,
   "id": "d401ac42-20e9-4d80-bd62-25c7ba4e9fec",
   "metadata": {},
   "outputs": [],
   "source": []
  },
  {
   "cell_type": "code",
   "execution_count": 45,
   "id": "3f1eaa4f-3709-43f5-ac68-02a867324e7d",
   "metadata": {},
   "outputs": [
    {
     "name": "stdout",
     "output_type": "stream",
     "text": [
      "<class 'pandas.core.frame.DataFrame'>\n",
      "RangeIndex: 59299 entries, 0 to 59298\n",
      "Data columns (total 5 columns):\n",
      " #   Column                   Non-Null Count  Dtype  \n",
      "---  ------                   --------------  -----  \n",
      " 0   historical_existing_cnt  59299 non-null  float64\n",
      " 1   com_reg_ver_win_rate     59299 non-null  float64\n",
      " 2   ver_win_rate_x           59299 non-null  float64\n",
      " 3   ver_win_ratio_per_bu     59299 non-null  float64\n",
      " 4   is_converted             59299 non-null  bool   \n",
      "dtypes: bool(1), float64(4)\n",
      "memory usage: 1.9 MB\n",
      "None\n",
      "<class 'pandas.core.frame.DataFrame'>\n",
      "RangeIndex: 5271 entries, 0 to 5270\n",
      "Data columns (total 5 columns):\n",
      " #   Column                   Non-Null Count  Dtype  \n",
      "---  ------                   --------------  -----  \n",
      " 0   historical_existing_cnt  5271 non-null   float64\n",
      " 1   com_reg_ver_win_rate     5271 non-null   float64\n",
      " 2   ver_win_rate_x           5271 non-null   float64\n",
      " 3   ver_win_ratio_per_bu     5271 non-null   float64\n",
      " 4   is_converted             5271 non-null   bool   \n",
      "dtypes: bool(1), float64(4)\n",
      "memory usage: 170.0 KB\n",
      "None\n"
     ]
    }
   ],
   "source": [
    "print(df_train.info())\n",
    "print(df_test.info())"
   ]
  },
  {
   "cell_type": "code",
   "execution_count": 46,
   "id": "1ea3f4e5-4f63-46df-b3b9-26eba53fb948",
   "metadata": {},
   "outputs": [],
   "source": [
    "PMI_df_train = df_train.drop('is_converted', axis = 1)\n",
    "PMI_df_test = df_test.drop('is_converted', axis = 1)\n",
    "\n",
    "PMI_df_train.to_csv('./preprocessing_data/PMI(성과측정정보)_train.csv')\n",
    "PMI_df_test.to_csv('./preprocessing_data/PMI(성과측정정보)_test.csv')"
   ]
  },
  {
   "cell_type": "code",
   "execution_count": null,
   "id": "c65a60d5-c5bc-4e0e-8802-1b4aed888214",
   "metadata": {},
   "outputs": [],
   "source": []
  },
  {
   "cell_type": "code",
   "execution_count": null,
   "id": "88c7738b-7fc4-4ba6-9f84-a3169de94bf0",
   "metadata": {},
   "outputs": [],
   "source": []
  },
  {
   "cell_type": "code",
   "execution_count": null,
   "id": "c6da03e9-2bd4-4941-abd3-0dab92aa4c9c",
   "metadata": {},
   "outputs": [],
   "source": []
  },
  {
   "cell_type": "code",
   "execution_count": null,
   "id": "fe2a12e3-236e-4b87-9dd6-5f735ac209a6",
   "metadata": {},
   "outputs": [],
   "source": []
  },
  {
   "cell_type": "code",
   "execution_count": null,
   "id": "4a8ad865-8360-4891-891c-8457b95646e3",
   "metadata": {},
   "outputs": [],
   "source": []
  },
  {
   "cell_type": "code",
   "execution_count": null,
   "id": "9ebb4b1a-98ed-4f3d-aab0-02fe8cfa7b3b",
   "metadata": {},
   "outputs": [],
   "source": []
  },
  {
   "cell_type": "code",
   "execution_count": null,
   "id": "8935e465-39bc-4990-bc2a-a6141b710e96",
   "metadata": {},
   "outputs": [],
   "source": []
  },
  {
   "cell_type": "code",
   "execution_count": 9,
   "id": "6c936606-d483-496c-8904-cfb45d724d8d",
   "metadata": {},
   "outputs": [],
   "source": [
    "# df_train 데이터 프레임을 복사하여 새로운 데이터 프레임을 생성합니다.\n",
    "df_train_transformed = df_train.copy()\n",
    "df_test_transformed = df_test.copy()\n",
    "\n",
    "# 'object' 타입 변수 목록을 가져옵니다.\n",
    "object_columns = df_train_transformed.select_dtypes(include=['object']).columns\n",
    "\n",
    "# 각 object 타입 변수에 대한 변환 비율을 저장하는 딕셔너리를 생성합니다.\n",
    "conversion_rate_dict = {}\n",
    "\n",
    "for column in object_columns:\n",
    "    # 각 object 타입 변수에 대해 is_converted의 평균값을 계산합니다.\n",
    "    conversion_rate = df_train_transformed.groupby(column)['is_converted'].mean()\n",
    "    \n",
    "    # 계산된 평균값을 딕셔너리에 저장합니다.\n",
    "    conversion_rate_dict[column] = conversion_rate\n",
    "    \n",
    "    # 새로운 컬럼 이름을 설정합니다.\n",
    "    new_column_name = f\"{column}_conversion_rate\"\n",
    "    \n",
    "    # 원본 데이터 프레임에 새로운 컬럼을 추가합니다. map 함수를 사용하여 각 행의 값에 대응하는 비율을 적용합니다.\n",
    "    df_train_transformed[new_column_name] = df_train_transformed[column].map(conversion_rate)\n",
    "    df_test_transformed[new_column_name] = df_test_transformed[column].map(conversion_rate_dict[column])\n",
    "\n",
    "    # 테스트 데이터에 없는 카테고리의 경우 0 또는 평균값으로 처리합니다.\n",
    "    df_test_transformed[new_column_name].fillna(df_test_transformed[new_column_name].mean(), inplace=True)\n",
    "\n",
    "# 불필요한 컬럼을 제거합니다.\n",
    "df_train = df_train_transformed.select_dtypes(include=['float64', 'bool'])\n",
    "df_test = df_test_transformed.select_dtypes(include=['float64', 'bool'])\n",
    "\n",
    "# 이제 df_train과 df_test는 변환된 특성을 포함하고 있습니다."
   ]
  },
  {
   "cell_type": "code",
   "execution_count": 10,
   "id": "8b27ac28-aa77-473a-94d9-e42a7513dffb",
   "metadata": {},
   "outputs": [
    {
     "data": {
      "text/html": [
       "<div>\n",
       "<style scoped>\n",
       "    .dataframe tbody tr th:only-of-type {\n",
       "        vertical-align: middle;\n",
       "    }\n",
       "\n",
       "    .dataframe tbody tr th {\n",
       "        vertical-align: top;\n",
       "    }\n",
       "\n",
       "    .dataframe thead th {\n",
       "        text-align: right;\n",
       "    }\n",
       "</style>\n",
       "<table border=\"1\" class=\"dataframe\">\n",
       "  <thead>\n",
       "    <tr style=\"text-align: right;\">\n",
       "      <th></th>\n",
       "      <th>is_converted</th>\n",
       "      <th>lead_owner_conversion_rate</th>\n",
       "      <th>expected_timeline_conversion_rate</th>\n",
       "    </tr>\n",
       "  </thead>\n",
       "  <tbody>\n",
       "    <tr>\n",
       "      <th>0</th>\n",
       "      <td>True</td>\n",
       "      <td>0.046620</td>\n",
       "      <td>0.101449</td>\n",
       "    </tr>\n",
       "    <tr>\n",
       "      <th>1</th>\n",
       "      <td>True</td>\n",
       "      <td>0.750000</td>\n",
       "      <td>0.101449</td>\n",
       "    </tr>\n",
       "    <tr>\n",
       "      <th>2</th>\n",
       "      <td>True</td>\n",
       "      <td>0.325000</td>\n",
       "      <td>0.101449</td>\n",
       "    </tr>\n",
       "    <tr>\n",
       "      <th>3</th>\n",
       "      <td>True</td>\n",
       "      <td>0.379310</td>\n",
       "      <td>0.101449</td>\n",
       "    </tr>\n",
       "    <tr>\n",
       "      <th>4</th>\n",
       "      <td>True</td>\n",
       "      <td>0.789474</td>\n",
       "      <td>0.101449</td>\n",
       "    </tr>\n",
       "    <tr>\n",
       "      <th>...</th>\n",
       "      <td>...</td>\n",
       "      <td>...</td>\n",
       "      <td>...</td>\n",
       "    </tr>\n",
       "    <tr>\n",
       "      <th>59294</th>\n",
       "      <td>False</td>\n",
       "      <td>0.000000</td>\n",
       "      <td>0.076204</td>\n",
       "    </tr>\n",
       "    <tr>\n",
       "      <th>59295</th>\n",
       "      <td>False</td>\n",
       "      <td>0.000000</td>\n",
       "      <td>0.071753</td>\n",
       "    </tr>\n",
       "    <tr>\n",
       "      <th>59296</th>\n",
       "      <td>False</td>\n",
       "      <td>0.000000</td>\n",
       "      <td>0.101449</td>\n",
       "    </tr>\n",
       "    <tr>\n",
       "      <th>59297</th>\n",
       "      <td>False</td>\n",
       "      <td>0.000000</td>\n",
       "      <td>0.041019</td>\n",
       "    </tr>\n",
       "    <tr>\n",
       "      <th>59298</th>\n",
       "      <td>False</td>\n",
       "      <td>0.007117</td>\n",
       "      <td>0.101449</td>\n",
       "    </tr>\n",
       "  </tbody>\n",
       "</table>\n",
       "<p>59299 rows × 3 columns</p>\n",
       "</div>"
      ],
      "text/plain": [
       "       is_converted  lead_owner_conversion_rate  \\\n",
       "0              True                    0.046620   \n",
       "1              True                    0.750000   \n",
       "2              True                    0.325000   \n",
       "3              True                    0.379310   \n",
       "4              True                    0.789474   \n",
       "...             ...                         ...   \n",
       "59294         False                    0.000000   \n",
       "59295         False                    0.000000   \n",
       "59296         False                    0.000000   \n",
       "59297         False                    0.000000   \n",
       "59298         False                    0.007117   \n",
       "\n",
       "       expected_timeline_conversion_rate  \n",
       "0                               0.101449  \n",
       "1                               0.101449  \n",
       "2                               0.101449  \n",
       "3                               0.101449  \n",
       "4                               0.101449  \n",
       "...                                  ...  \n",
       "59294                           0.076204  \n",
       "59295                           0.071753  \n",
       "59296                           0.101449  \n",
       "59297                           0.041019  \n",
       "59298                           0.101449  \n",
       "\n",
       "[59299 rows x 3 columns]"
      ]
     },
     "execution_count": 10,
     "metadata": {},
     "output_type": "execute_result"
    }
   ],
   "source": [
    "df_train"
   ]
  },
  {
   "cell_type": "code",
   "execution_count": 11,
   "id": "c53d1ddd-c96d-4b76-9116-d8a40b223b69",
   "metadata": {},
   "outputs": [
    {
     "name": "stdout",
     "output_type": "stream",
     "text": [
      "[LightGBM] [Warning] There are no meaningful features which satisfy the provided configuration. Decreasing Dataset parameters min_data_in_bin or min_data_in_leaf and re-constructing Dataset might resolve this warning.\n",
      "[LightGBM] [Info] Number of positive: 1, number of negative: 1\n",
      "[LightGBM] [Info] This is the GPU trainer!!\n",
      "[LightGBM] [Info] Total Bins 0\n",
      "[LightGBM] [Info] Number of data points in the train set: 2, number of used features: 0\n",
      "[LightGBM] [Warning] There are no meaningful features which satisfy the provided configuration. Decreasing Dataset parameters min_data_in_bin or min_data_in_leaf and re-constructing Dataset might resolve this warning.\n",
      "[LightGBM] [Warning] Using sparse features with CUDA is currently not supported.\n",
      "[LightGBM] [Info] Number of positive: 1, number of negative: 1\n",
      "[LightGBM] [Warning] There are no meaningful features which satisfy the provided configuration. Decreasing Dataset parameters min_data_in_bin or min_data_in_leaf and re-constructing Dataset might resolve this warning.\n",
      "[LightGBM] [Info] Number of positive: 1, number of negative: 1\n",
      "[LightGBM] [Info] This is the GPU trainer!!\n",
      "[LightGBM] [Info] Total Bins 0\n",
      "[LightGBM] [Info] Number of data points in the train set: 2, number of used features: 0\n",
      "[LightGBM] [Warning] There are no meaningful features which satisfy the provided configuration. Decreasing Dataset parameters min_data_in_bin or min_data_in_leaf and re-constructing Dataset might resolve this warning.\n",
      "[LightGBM] [Warning] Using sparse features with CUDA is currently not supported.\n",
      "[LightGBM] [Info] Number of positive: 1, number of negative: 1\n",
      "[LightGBM] [Warning] There are no meaningful features which satisfy the provided configuration. Decreasing Dataset parameters min_data_in_bin or min_data_in_leaf and re-constructing Dataset might resolve this warning.\n",
      "[LightGBM] [Info] Number of positive: 1, number of negative: 1\n",
      "[LightGBM] [Info] This is the GPU trainer!!\n",
      "[LightGBM] [Info] Total Bins 0\n",
      "[LightGBM] [Info] Number of data points in the train set: 2, number of used features: 0\n",
      "[LightGBM] [Warning] There are no meaningful features which satisfy the provided configuration. Decreasing Dataset parameters min_data_in_bin or min_data_in_leaf and re-constructing Dataset might resolve this warning.\n",
      "[LightGBM] [Warning] Using sparse features with CUDA is currently not supported.\n",
      "[LightGBM] [Info] Number of positive: 1, number of negative: 1\n",
      "[LightGBM] [Warning] There are no meaningful features which satisfy the provided configuration. Decreasing Dataset parameters min_data_in_bin or min_data_in_leaf and re-constructing Dataset might resolve this warning.\n",
      "[LightGBM] [Info] Number of positive: 1, number of negative: 1\n",
      "[LightGBM] [Info] This is the GPU trainer!!\n",
      "[LightGBM] [Info] Total Bins 0\n",
      "[LightGBM] [Info] Number of data points in the train set: 2, number of used features: 0\n",
      "[LightGBM] [Warning] There are no meaningful features which satisfy the provided configuration. Decreasing Dataset parameters min_data_in_bin or min_data_in_leaf and re-constructing Dataset might resolve this warning.\n",
      "[LightGBM] [Warning] Using sparse features with CUDA is currently not supported.\n",
      "[LightGBM] [Info] Number of positive: 1, number of negative: 1\n",
      "[LightGBM] [Warning] There are no meaningful features which satisfy the provided configuration. Decreasing Dataset parameters min_data_in_bin or min_data_in_leaf and re-constructing Dataset might resolve this warning.\n",
      "[LightGBM] [Info] Number of positive: 1, number of negative: 1\n",
      "[LightGBM] [Info] This is the GPU trainer!!\n",
      "[LightGBM] [Info] Total Bins 0\n",
      "[LightGBM] [Info] Number of data points in the train set: 2, number of used features: 0\n",
      "[LightGBM] [Warning] There are no meaningful features which satisfy the provided configuration. Decreasing Dataset parameters min_data_in_bin or min_data_in_leaf and re-constructing Dataset might resolve this warning.\n",
      "[LightGBM] [Warning] Using sparse features with CUDA is currently not supported.\n",
      "[LightGBM] [Info] Number of positive: 1, number of negative: 1\n",
      "[LightGBM] [Warning] There are no meaningful features which satisfy the provided configuration. Decreasing Dataset parameters min_data_in_bin or min_data_in_leaf and re-constructing Dataset might resolve this warning.\n",
      "[LightGBM] [Info] Number of positive: 1, number of negative: 1\n",
      "[LightGBM] [Info] This is the GPU trainer!!\n",
      "[LightGBM] [Info] Total Bins 0\n",
      "[LightGBM] [Info] Number of data points in the train set: 2, number of used features: 0\n",
      "[LightGBM] [Warning] There are no meaningful features which satisfy the provided configuration. Decreasing Dataset parameters min_data_in_bin or min_data_in_leaf and re-constructing Dataset might resolve this warning.\n",
      "[LightGBM] [Warning] Using sparse features with CUDA is currently not supported.\n",
      "[LightGBM] [Info] Number of positive: 1, number of negative: 1\n"
     ]
    },
    {
     "name": "stderr",
     "output_type": "stream",
     "text": [
      "[LightGBM] [Fatal] CUDA Tree Learner was not enabled in this build.\n",
      "Please recompile with CMake option -DUSE_CUDA=1\n",
      "[LightGBM] [Fatal] CUDA Tree Learner was not enabled in this build.\n",
      "Please recompile with CMake option -DUSE_CUDA=1\n",
      "[LightGBM] [Fatal] CUDA Tree Learner was not enabled in this build.\n",
      "Please recompile with CMake option -DUSE_CUDA=1\n",
      "[LightGBM] [Fatal] CUDA Tree Learner was not enabled in this build.\n",
      "Please recompile with CMake option -DUSE_CUDA=1\n",
      "[LightGBM] [Fatal] CUDA Tree Learner was not enabled in this build.\n",
      "Please recompile with CMake option -DUSE_CUDA=1\n",
      "[LightGBM] [Fatal] CUDA Tree Learner was not enabled in this build.\n",
      "Please recompile with CMake option -DUSE_CUDA=1\n"
     ]
    },
    {
     "data": {
      "text/html": [
       "<style type=\"text/css\">\n",
       "#T_02cd3_row9_col1, #T_02cd3_row16_col1 {\n",
       "  background-color: lightgreen;\n",
       "}\n",
       "</style>\n",
       "<table id=\"T_02cd3\">\n",
       "  <thead>\n",
       "    <tr>\n",
       "      <th class=\"blank level0\" >&nbsp;</th>\n",
       "      <th id=\"T_02cd3_level0_col0\" class=\"col_heading level0 col0\" >Description</th>\n",
       "      <th id=\"T_02cd3_level0_col1\" class=\"col_heading level0 col1\" >Value</th>\n",
       "    </tr>\n",
       "  </thead>\n",
       "  <tbody>\n",
       "    <tr>\n",
       "      <th id=\"T_02cd3_level0_row0\" class=\"row_heading level0 row0\" >0</th>\n",
       "      <td id=\"T_02cd3_row0_col0\" class=\"data row0 col0\" >Session id</td>\n",
       "      <td id=\"T_02cd3_row0_col1\" class=\"data row0 col1\" >123</td>\n",
       "    </tr>\n",
       "    <tr>\n",
       "      <th id=\"T_02cd3_level0_row1\" class=\"row_heading level0 row1\" >1</th>\n",
       "      <td id=\"T_02cd3_row1_col0\" class=\"data row1 col0\" >Target</td>\n",
       "      <td id=\"T_02cd3_row1_col1\" class=\"data row1 col1\" >is_converted</td>\n",
       "    </tr>\n",
       "    <tr>\n",
       "      <th id=\"T_02cd3_level0_row2\" class=\"row_heading level0 row2\" >2</th>\n",
       "      <td id=\"T_02cd3_row2_col0\" class=\"data row2 col0\" >Target type</td>\n",
       "      <td id=\"T_02cd3_row2_col1\" class=\"data row2 col1\" >Binary</td>\n",
       "    </tr>\n",
       "    <tr>\n",
       "      <th id=\"T_02cd3_level0_row3\" class=\"row_heading level0 row3\" >3</th>\n",
       "      <td id=\"T_02cd3_row3_col0\" class=\"data row3 col0\" >Original data shape</td>\n",
       "      <td id=\"T_02cd3_row3_col1\" class=\"data row3 col1\" >(59299, 3)</td>\n",
       "    </tr>\n",
       "    <tr>\n",
       "      <th id=\"T_02cd3_level0_row4\" class=\"row_heading level0 row4\" >4</th>\n",
       "      <td id=\"T_02cd3_row4_col0\" class=\"data row4 col0\" >Transformed data shape</td>\n",
       "      <td id=\"T_02cd3_row4_col1\" class=\"data row4 col1\" >(59299, 3)</td>\n",
       "    </tr>\n",
       "    <tr>\n",
       "      <th id=\"T_02cd3_level0_row5\" class=\"row_heading level0 row5\" >5</th>\n",
       "      <td id=\"T_02cd3_row5_col0\" class=\"data row5 col0\" >Transformed train set shape</td>\n",
       "      <td id=\"T_02cd3_row5_col1\" class=\"data row5 col1\" >(41509, 3)</td>\n",
       "    </tr>\n",
       "    <tr>\n",
       "      <th id=\"T_02cd3_level0_row6\" class=\"row_heading level0 row6\" >6</th>\n",
       "      <td id=\"T_02cd3_row6_col0\" class=\"data row6 col0\" >Transformed test set shape</td>\n",
       "      <td id=\"T_02cd3_row6_col1\" class=\"data row6 col1\" >(17790, 3)</td>\n",
       "    </tr>\n",
       "    <tr>\n",
       "      <th id=\"T_02cd3_level0_row7\" class=\"row_heading level0 row7\" >7</th>\n",
       "      <td id=\"T_02cd3_row7_col0\" class=\"data row7 col0\" >Numeric features</td>\n",
       "      <td id=\"T_02cd3_row7_col1\" class=\"data row7 col1\" >2</td>\n",
       "    </tr>\n",
       "    <tr>\n",
       "      <th id=\"T_02cd3_level0_row8\" class=\"row_heading level0 row8\" >8</th>\n",
       "      <td id=\"T_02cd3_row8_col0\" class=\"data row8 col0\" >Rows with missing values</td>\n",
       "      <td id=\"T_02cd3_row8_col1\" class=\"data row8 col1\" >52.0%</td>\n",
       "    </tr>\n",
       "    <tr>\n",
       "      <th id=\"T_02cd3_level0_row9\" class=\"row_heading level0 row9\" >9</th>\n",
       "      <td id=\"T_02cd3_row9_col0\" class=\"data row9 col0\" >Preprocess</td>\n",
       "      <td id=\"T_02cd3_row9_col1\" class=\"data row9 col1\" >True</td>\n",
       "    </tr>\n",
       "    <tr>\n",
       "      <th id=\"T_02cd3_level0_row10\" class=\"row_heading level0 row10\" >10</th>\n",
       "      <td id=\"T_02cd3_row10_col0\" class=\"data row10 col0\" >Imputation type</td>\n",
       "      <td id=\"T_02cd3_row10_col1\" class=\"data row10 col1\" >simple</td>\n",
       "    </tr>\n",
       "    <tr>\n",
       "      <th id=\"T_02cd3_level0_row11\" class=\"row_heading level0 row11\" >11</th>\n",
       "      <td id=\"T_02cd3_row11_col0\" class=\"data row11 col0\" >Numeric imputation</td>\n",
       "      <td id=\"T_02cd3_row11_col1\" class=\"data row11 col1\" >mean</td>\n",
       "    </tr>\n",
       "    <tr>\n",
       "      <th id=\"T_02cd3_level0_row12\" class=\"row_heading level0 row12\" >12</th>\n",
       "      <td id=\"T_02cd3_row12_col0\" class=\"data row12 col0\" >Categorical imputation</td>\n",
       "      <td id=\"T_02cd3_row12_col1\" class=\"data row12 col1\" >mode</td>\n",
       "    </tr>\n",
       "    <tr>\n",
       "      <th id=\"T_02cd3_level0_row13\" class=\"row_heading level0 row13\" >13</th>\n",
       "      <td id=\"T_02cd3_row13_col0\" class=\"data row13 col0\" >Fold Generator</td>\n",
       "      <td id=\"T_02cd3_row13_col1\" class=\"data row13 col1\" >StratifiedKFold</td>\n",
       "    </tr>\n",
       "    <tr>\n",
       "      <th id=\"T_02cd3_level0_row14\" class=\"row_heading level0 row14\" >14</th>\n",
       "      <td id=\"T_02cd3_row14_col0\" class=\"data row14 col0\" >Fold Number</td>\n",
       "      <td id=\"T_02cd3_row14_col1\" class=\"data row14 col1\" >10</td>\n",
       "    </tr>\n",
       "    <tr>\n",
       "      <th id=\"T_02cd3_level0_row15\" class=\"row_heading level0 row15\" >15</th>\n",
       "      <td id=\"T_02cd3_row15_col0\" class=\"data row15 col0\" >CPU Jobs</td>\n",
       "      <td id=\"T_02cd3_row15_col1\" class=\"data row15 col1\" >-1</td>\n",
       "    </tr>\n",
       "    <tr>\n",
       "      <th id=\"T_02cd3_level0_row16\" class=\"row_heading level0 row16\" >16</th>\n",
       "      <td id=\"T_02cd3_row16_col0\" class=\"data row16 col0\" >Use GPU</td>\n",
       "      <td id=\"T_02cd3_row16_col1\" class=\"data row16 col1\" >True</td>\n",
       "    </tr>\n",
       "    <tr>\n",
       "      <th id=\"T_02cd3_level0_row17\" class=\"row_heading level0 row17\" >17</th>\n",
       "      <td id=\"T_02cd3_row17_col0\" class=\"data row17 col0\" >Log Experiment</td>\n",
       "      <td id=\"T_02cd3_row17_col1\" class=\"data row17 col1\" >False</td>\n",
       "    </tr>\n",
       "    <tr>\n",
       "      <th id=\"T_02cd3_level0_row18\" class=\"row_heading level0 row18\" >18</th>\n",
       "      <td id=\"T_02cd3_row18_col0\" class=\"data row18 col0\" >Experiment Name</td>\n",
       "      <td id=\"T_02cd3_row18_col1\" class=\"data row18 col1\" >clf-default-name</td>\n",
       "    </tr>\n",
       "    <tr>\n",
       "      <th id=\"T_02cd3_level0_row19\" class=\"row_heading level0 row19\" >19</th>\n",
       "      <td id=\"T_02cd3_row19_col0\" class=\"data row19 col0\" >USI</td>\n",
       "      <td id=\"T_02cd3_row19_col1\" class=\"data row19 col1\" >b6c1</td>\n",
       "    </tr>\n",
       "  </tbody>\n",
       "</table>\n"
      ],
      "text/plain": [
       "<pandas.io.formats.style.Styler at 0x7f5bce5e3b90>"
      ]
     },
     "metadata": {},
     "output_type": "display_data"
    },
    {
     "name": "stdout",
     "output_type": "stream",
     "text": [
      "[LightGBM] [Warning] There are no meaningful features which satisfy the provided configuration. Decreasing Dataset parameters min_data_in_bin or min_data_in_leaf and re-constructing Dataset might resolve this warning.\n",
      "[LightGBM] [Info] Number of positive: 1, number of negative: 1\n",
      "[LightGBM] [Info] This is the GPU trainer!!\n",
      "[LightGBM] [Info] Total Bins 0\n",
      "[LightGBM] [Info] Number of data points in the train set: 2, number of used features: 0\n",
      "[LightGBM] [Warning] There are no meaningful features which satisfy the provided configuration. Decreasing Dataset parameters min_data_in_bin or min_data_in_leaf and re-constructing Dataset might resolve this warning.\n",
      "[LightGBM] [Warning] Using sparse features with CUDA is currently not supported.\n",
      "[LightGBM] [Info] Number of positive: 1, number of negative: 1\n",
      "[LightGBM] [Warning] There are no meaningful features which satisfy the provided configuration. Decreasing Dataset parameters min_data_in_bin or min_data_in_leaf and re-constructing Dataset might resolve this warning.\n",
      "[LightGBM] [Info] Number of positive: 1, number of negative: 1\n",
      "[LightGBM] [Info] This is the GPU trainer!!\n",
      "[LightGBM] [Info] Total Bins 0\n",
      "[LightGBM] [Info] Number of data points in the train set: 2, number of used features: 0\n",
      "[LightGBM] [Warning] There are no meaningful features which satisfy the provided configuration. Decreasing Dataset parameters min_data_in_bin or min_data_in_leaf and re-constructing Dataset might resolve this warning.\n",
      "[LightGBM] [Warning] Using sparse features with CUDA is currently not supported.\n",
      "[LightGBM] [Info] Number of positive: 1, number of negative: 1\n"
     ]
    },
    {
     "name": "stderr",
     "output_type": "stream",
     "text": [
      "[LightGBM] [Fatal] CUDA Tree Learner was not enabled in this build.\n",
      "Please recompile with CMake option -DUSE_CUDA=1\n",
      "[LightGBM] [Fatal] CUDA Tree Learner was not enabled in this build.\n",
      "Please recompile with CMake option -DUSE_CUDA=1\n"
     ]
    }
   ],
   "source": [
    "from pycaret.classification import *\n",
    "clf = setup(data=df_train, \n",
    "            target='is_converted', \n",
    "            session_id=123, \n",
    "            use_gpu=True, \n",
    "            #normalize=True,  # 데이터 정규화\n",
    "            #normalize_method='minmax',  # 정규화 방법\n",
    "            #feature_selection=True,  # 특성 선택\n",
    "            #remove_multicollinearity=True,  # 다중공선성 제거\n",
    "            #categorical_imputation='lightgbm',  # 범주형 변수 결측치는 최빈값으로 대체\n",
    "            #imputation_type='iterative',  # 반복적인(imputation) 방식 사용\n",
    "            #categorical_features = col[:-1],\n",
    "            verbose=True,\n",
    "           )"
   ]
  },
  {
   "cell_type": "code",
   "execution_count": 12,
   "id": "b748d77d-0f5f-49ee-b4d3-d1561f1be550",
   "metadata": {},
   "outputs": [
    {
     "data": {
      "text/html": [],
      "text/plain": [
       "<IPython.core.display.HTML object>"
      ]
     },
     "metadata": {},
     "output_type": "display_data"
    },
    {
     "data": {
      "text/html": [
       "<style type=\"text/css\">\n",
       "#T_66109 th {\n",
       "  text-align: left;\n",
       "}\n",
       "#T_66109_row0_col0, #T_66109_row0_col1, #T_66109_row0_col2, #T_66109_row0_col4, #T_66109_row1_col0, #T_66109_row1_col1, #T_66109_row1_col2, #T_66109_row1_col3, #T_66109_row1_col4, #T_66109_row1_col5, #T_66109_row1_col6, #T_66109_row1_col7, #T_66109_row2_col0, #T_66109_row2_col1, #T_66109_row2_col2, #T_66109_row2_col3, #T_66109_row2_col4, #T_66109_row2_col5, #T_66109_row2_col6, #T_66109_row2_col7, #T_66109_row3_col0, #T_66109_row3_col1, #T_66109_row3_col2, #T_66109_row3_col3, #T_66109_row3_col4, #T_66109_row3_col5, #T_66109_row3_col6, #T_66109_row3_col7, #T_66109_row4_col0, #T_66109_row4_col1, #T_66109_row4_col2, #T_66109_row4_col3, #T_66109_row4_col4, #T_66109_row4_col5, #T_66109_row4_col6, #T_66109_row4_col7, #T_66109_row5_col0, #T_66109_row5_col1, #T_66109_row5_col2, #T_66109_row5_col3, #T_66109_row5_col4, #T_66109_row5_col5, #T_66109_row5_col6, #T_66109_row5_col7, #T_66109_row6_col0, #T_66109_row6_col2, #T_66109_row6_col3, #T_66109_row6_col4, #T_66109_row6_col5, #T_66109_row6_col6, #T_66109_row6_col7, #T_66109_row7_col0, #T_66109_row7_col1, #T_66109_row7_col3, #T_66109_row7_col4, #T_66109_row7_col5, #T_66109_row7_col6, #T_66109_row7_col7, #T_66109_row8_col0, #T_66109_row8_col1, #T_66109_row8_col2, #T_66109_row8_col3, #T_66109_row8_col4, #T_66109_row8_col5, #T_66109_row8_col6, #T_66109_row8_col7, #T_66109_row9_col0, #T_66109_row9_col1, #T_66109_row9_col2, #T_66109_row9_col3, #T_66109_row9_col4, #T_66109_row9_col5, #T_66109_row9_col6, #T_66109_row9_col7, #T_66109_row10_col0, #T_66109_row10_col1, #T_66109_row10_col2, #T_66109_row10_col3, #T_66109_row10_col4, #T_66109_row10_col5, #T_66109_row10_col6, #T_66109_row10_col7, #T_66109_row11_col0, #T_66109_row11_col1, #T_66109_row11_col2, #T_66109_row11_col3, #T_66109_row11_col4, #T_66109_row11_col5, #T_66109_row11_col6, #T_66109_row11_col7, #T_66109_row12_col0, #T_66109_row12_col1, #T_66109_row12_col2, #T_66109_row12_col3, #T_66109_row12_col5, #T_66109_row12_col6, #T_66109_row12_col7, #T_66109_row13_col0, #T_66109_row13_col1, #T_66109_row13_col2, #T_66109_row13_col3, #T_66109_row13_col4, #T_66109_row13_col5, #T_66109_row13_col6, #T_66109_row13_col7 {\n",
       "  text-align: left;\n",
       "}\n",
       "#T_66109_row0_col3, #T_66109_row0_col5, #T_66109_row0_col6, #T_66109_row0_col7, #T_66109_row6_col1, #T_66109_row7_col2, #T_66109_row12_col4 {\n",
       "  text-align: left;\n",
       "  background-color: yellow;\n",
       "}\n",
       "#T_66109_row0_col8, #T_66109_row1_col8, #T_66109_row2_col8, #T_66109_row3_col8, #T_66109_row4_col8, #T_66109_row5_col8, #T_66109_row6_col8, #T_66109_row7_col8, #T_66109_row8_col8, #T_66109_row9_col8, #T_66109_row10_col8, #T_66109_row11_col8, #T_66109_row12_col8 {\n",
       "  text-align: left;\n",
       "  background-color: lightgrey;\n",
       "}\n",
       "#T_66109_row13_col8 {\n",
       "  text-align: left;\n",
       "  background-color: yellow;\n",
       "  background-color: lightgrey;\n",
       "}\n",
       "</style>\n",
       "<table id=\"T_66109\">\n",
       "  <thead>\n",
       "    <tr>\n",
       "      <th class=\"blank level0\" >&nbsp;</th>\n",
       "      <th id=\"T_66109_level0_col0\" class=\"col_heading level0 col0\" >Model</th>\n",
       "      <th id=\"T_66109_level0_col1\" class=\"col_heading level0 col1\" >Accuracy</th>\n",
       "      <th id=\"T_66109_level0_col2\" class=\"col_heading level0 col2\" >AUC</th>\n",
       "      <th id=\"T_66109_level0_col3\" class=\"col_heading level0 col3\" >Recall</th>\n",
       "      <th id=\"T_66109_level0_col4\" class=\"col_heading level0 col4\" >Prec.</th>\n",
       "      <th id=\"T_66109_level0_col5\" class=\"col_heading level0 col5\" >F1</th>\n",
       "      <th id=\"T_66109_level0_col6\" class=\"col_heading level0 col6\" >Kappa</th>\n",
       "      <th id=\"T_66109_level0_col7\" class=\"col_heading level0 col7\" >MCC</th>\n",
       "      <th id=\"T_66109_level0_col8\" class=\"col_heading level0 col8\" >TT (Sec)</th>\n",
       "    </tr>\n",
       "  </thead>\n",
       "  <tbody>\n",
       "    <tr>\n",
       "      <th id=\"T_66109_level0_row0\" class=\"row_heading level0 row0\" >lda</th>\n",
       "      <td id=\"T_66109_row0_col0\" class=\"data row0 col0\" >Linear Discriminant Analysis</td>\n",
       "      <td id=\"T_66109_row0_col1\" class=\"data row0 col1\" >0.9338</td>\n",
       "      <td id=\"T_66109_row0_col2\" class=\"data row0 col2\" >0.9356</td>\n",
       "      <td id=\"T_66109_row0_col3\" class=\"data row0 col3\" >0.5110</td>\n",
       "      <td id=\"T_66109_row0_col4\" class=\"data row0 col4\" >0.6149</td>\n",
       "      <td id=\"T_66109_row0_col5\" class=\"data row0 col5\" >0.5580</td>\n",
       "      <td id=\"T_66109_row0_col6\" class=\"data row0 col6\" >0.5226</td>\n",
       "      <td id=\"T_66109_row0_col7\" class=\"data row0 col7\" >0.5253</td>\n",
       "      <td id=\"T_66109_row0_col8\" class=\"data row0 col8\" >0.0150</td>\n",
       "    </tr>\n",
       "    <tr>\n",
       "      <th id=\"T_66109_level0_row1\" class=\"row_heading level0 row1\" >lr</th>\n",
       "      <td id=\"T_66109_row1_col0\" class=\"data row1 col0\" >Logistic Regression</td>\n",
       "      <td id=\"T_66109_row1_col1\" class=\"data row1 col1\" >0.9388</td>\n",
       "      <td id=\"T_66109_row1_col2\" class=\"data row1 col2\" >0.9356</td>\n",
       "      <td id=\"T_66109_row1_col3\" class=\"data row1 col3\" >0.4015</td>\n",
       "      <td id=\"T_66109_row1_col4\" class=\"data row1 col4\" >0.7299</td>\n",
       "      <td id=\"T_66109_row1_col5\" class=\"data row1 col5\" >0.5174</td>\n",
       "      <td id=\"T_66109_row1_col6\" class=\"data row1 col6\" >0.4877</td>\n",
       "      <td id=\"T_66109_row1_col7\" class=\"data row1 col7\" >0.5130</td>\n",
       "      <td id=\"T_66109_row1_col8\" class=\"data row1 col8\" >0.0300</td>\n",
       "    </tr>\n",
       "    <tr>\n",
       "      <th id=\"T_66109_level0_row2\" class=\"row_heading level0 row2\" >nb</th>\n",
       "      <td id=\"T_66109_row2_col0\" class=\"data row2 col0\" >Naive Bayes</td>\n",
       "      <td id=\"T_66109_row2_col1\" class=\"data row2 col1\" >0.9258</td>\n",
       "      <td id=\"T_66109_row2_col2\" class=\"data row2 col2\" >0.9040</td>\n",
       "      <td id=\"T_66109_row2_col3\" class=\"data row2 col3\" >0.4701</td>\n",
       "      <td id=\"T_66109_row2_col4\" class=\"data row2 col4\" >0.5544</td>\n",
       "      <td id=\"T_66109_row2_col5\" class=\"data row2 col5\" >0.5085</td>\n",
       "      <td id=\"T_66109_row2_col6\" class=\"data row2 col6\" >0.4686</td>\n",
       "      <td id=\"T_66109_row2_col7\" class=\"data row2 col7\" >0.4707</td>\n",
       "      <td id=\"T_66109_row2_col8\" class=\"data row2 col8\" >0.0120</td>\n",
       "    </tr>\n",
       "    <tr>\n",
       "      <th id=\"T_66109_level0_row3\" class=\"row_heading level0 row3\" >qda</th>\n",
       "      <td id=\"T_66109_row3_col0\" class=\"data row3 col0\" >Quadratic Discriminant Analysis</td>\n",
       "      <td id=\"T_66109_row3_col1\" class=\"data row3 col1\" >0.9257</td>\n",
       "      <td id=\"T_66109_row3_col2\" class=\"data row3 col2\" >0.9038</td>\n",
       "      <td id=\"T_66109_row3_col3\" class=\"data row3 col3\" >0.4704</td>\n",
       "      <td id=\"T_66109_row3_col4\" class=\"data row3 col4\" >0.5538</td>\n",
       "      <td id=\"T_66109_row3_col5\" class=\"data row3 col5\" >0.5084</td>\n",
       "      <td id=\"T_66109_row3_col6\" class=\"data row3 col6\" >0.4685</td>\n",
       "      <td id=\"T_66109_row3_col7\" class=\"data row3 col7\" >0.4705</td>\n",
       "      <td id=\"T_66109_row3_col8\" class=\"data row3 col8\" >0.0130</td>\n",
       "    </tr>\n",
       "    <tr>\n",
       "      <th id=\"T_66109_level0_row4\" class=\"row_heading level0 row4\" >lightgbm</th>\n",
       "      <td id=\"T_66109_row4_col0\" class=\"data row4 col0\" >Light Gradient Boosting Machine</td>\n",
       "      <td id=\"T_66109_row4_col1\" class=\"data row4 col1\" >0.9387</td>\n",
       "      <td id=\"T_66109_row4_col2\" class=\"data row4 col2\" >0.9378</td>\n",
       "      <td id=\"T_66109_row4_col3\" class=\"data row4 col3\" >0.3832</td>\n",
       "      <td id=\"T_66109_row4_col4\" class=\"data row4 col4\" >0.7433</td>\n",
       "      <td id=\"T_66109_row4_col5\" class=\"data row4 col5\" >0.5052</td>\n",
       "      <td id=\"T_66109_row4_col6\" class=\"data row4 col6\" >0.4761</td>\n",
       "      <td id=\"T_66109_row4_col7\" class=\"data row4 col7\" >0.5062</td>\n",
       "      <td id=\"T_66109_row4_col8\" class=\"data row4 col8\" >0.1110</td>\n",
       "    </tr>\n",
       "    <tr>\n",
       "      <th id=\"T_66109_level0_row5\" class=\"row_heading level0 row5\" >rf</th>\n",
       "      <td id=\"T_66109_row5_col0\" class=\"data row5 col0\" >Random Forest Classifier</td>\n",
       "      <td id=\"T_66109_row5_col1\" class=\"data row5 col1\" >0.9366</td>\n",
       "      <td id=\"T_66109_row5_col2\" class=\"data row5 col2\" >0.9190</td>\n",
       "      <td id=\"T_66109_row5_col3\" class=\"data row5 col3\" >0.3935</td>\n",
       "      <td id=\"T_66109_row5_col4\" class=\"data row5 col4\" >0.7025</td>\n",
       "      <td id=\"T_66109_row5_col5\" class=\"data row5 col5\" >0.5035</td>\n",
       "      <td id=\"T_66109_row5_col6\" class=\"data row5 col6\" >0.4726</td>\n",
       "      <td id=\"T_66109_row5_col7\" class=\"data row5 col7\" >0.4958</td>\n",
       "      <td id=\"T_66109_row5_col8\" class=\"data row5 col8\" >0.3210</td>\n",
       "    </tr>\n",
       "    <tr>\n",
       "      <th id=\"T_66109_level0_row6\" class=\"row_heading level0 row6\" >ridge</th>\n",
       "      <td id=\"T_66109_row6_col0\" class=\"data row6 col0\" >Ridge Classifier</td>\n",
       "      <td id=\"T_66109_row6_col1\" class=\"data row6 col1\" >0.9394</td>\n",
       "      <td id=\"T_66109_row6_col2\" class=\"data row6 col2\" >0.0000</td>\n",
       "      <td id=\"T_66109_row6_col3\" class=\"data row6 col3\" >0.3711</td>\n",
       "      <td id=\"T_66109_row6_col4\" class=\"data row6 col4\" >0.7689</td>\n",
       "      <td id=\"T_66109_row6_col5\" class=\"data row6 col5\" >0.5001</td>\n",
       "      <td id=\"T_66109_row6_col6\" class=\"data row6 col6\" >0.4720</td>\n",
       "      <td id=\"T_66109_row6_col7\" class=\"data row6 col7\" >0.5080</td>\n",
       "      <td id=\"T_66109_row6_col8\" class=\"data row6 col8\" >0.0180</td>\n",
       "    </tr>\n",
       "    <tr>\n",
       "      <th id=\"T_66109_level0_row7\" class=\"row_heading level0 row7\" >gbc</th>\n",
       "      <td id=\"T_66109_row7_col0\" class=\"data row7 col0\" >Gradient Boosting Classifier</td>\n",
       "      <td id=\"T_66109_row7_col1\" class=\"data row7 col1\" >0.9390</td>\n",
       "      <td id=\"T_66109_row7_col2\" class=\"data row7 col2\" >0.9392</td>\n",
       "      <td id=\"T_66109_row7_col3\" class=\"data row7 col3\" >0.3711</td>\n",
       "      <td id=\"T_66109_row7_col4\" class=\"data row7 col4\" >0.7628</td>\n",
       "      <td id=\"T_66109_row7_col5\" class=\"data row7 col5\" >0.4987</td>\n",
       "      <td id=\"T_66109_row7_col6\" class=\"data row7 col6\" >0.4704</td>\n",
       "      <td id=\"T_66109_row7_col7\" class=\"data row7 col7\" >0.5055</td>\n",
       "      <td id=\"T_66109_row7_col8\" class=\"data row7 col8\" >0.4300</td>\n",
       "    </tr>\n",
       "    <tr>\n",
       "      <th id=\"T_66109_level0_row8\" class=\"row_heading level0 row8\" >knn</th>\n",
       "      <td id=\"T_66109_row8_col0\" class=\"data row8 col0\" >K Neighbors Classifier</td>\n",
       "      <td id=\"T_66109_row8_col1\" class=\"data row8 col1\" >0.9318</td>\n",
       "      <td id=\"T_66109_row8_col2\" class=\"data row8 col2\" >0.8480</td>\n",
       "      <td id=\"T_66109_row8_col3\" class=\"data row8 col3\" >0.4130</td>\n",
       "      <td id=\"T_66109_row8_col4\" class=\"data row8 col4\" >0.6263</td>\n",
       "      <td id=\"T_66109_row8_col5\" class=\"data row8 col5\" >0.4970</td>\n",
       "      <td id=\"T_66109_row8_col6\" class=\"data row8 col6\" >0.4621</td>\n",
       "      <td id=\"T_66109_row8_col7\" class=\"data row8 col7\" >0.4740</td>\n",
       "      <td id=\"T_66109_row8_col8\" class=\"data row8 col8\" >0.1590</td>\n",
       "    </tr>\n",
       "    <tr>\n",
       "      <th id=\"T_66109_level0_row9\" class=\"row_heading level0 row9\" >et</th>\n",
       "      <td id=\"T_66109_row9_col0\" class=\"data row9 col0\" >Extra Trees Classifier</td>\n",
       "      <td id=\"T_66109_row9_col1\" class=\"data row9 col1\" >0.9369</td>\n",
       "      <td id=\"T_66109_row9_col2\" class=\"data row9 col2\" >0.9071</td>\n",
       "      <td id=\"T_66109_row9_col3\" class=\"data row9 col3\" >0.3785</td>\n",
       "      <td id=\"T_66109_row9_col4\" class=\"data row9 col4\" >0.7175</td>\n",
       "      <td id=\"T_66109_row9_col5\" class=\"data row9 col5\" >0.4946</td>\n",
       "      <td id=\"T_66109_row9_col6\" class=\"data row9 col6\" >0.4644</td>\n",
       "      <td id=\"T_66109_row9_col7\" class=\"data row9 col7\" >0.4920</td>\n",
       "      <td id=\"T_66109_row9_col8\" class=\"data row9 col8\" >0.2630</td>\n",
       "    </tr>\n",
       "    <tr>\n",
       "      <th id=\"T_66109_level0_row10\" class=\"row_heading level0 row10\" >dt</th>\n",
       "      <td id=\"T_66109_row10_col0\" class=\"data row10 col0\" >Decision Tree Classifier</td>\n",
       "      <td id=\"T_66109_row10_col1\" class=\"data row10 col1\" >0.9367</td>\n",
       "      <td id=\"T_66109_row10_col2\" class=\"data row10 col2\" >0.9025</td>\n",
       "      <td id=\"T_66109_row10_col3\" class=\"data row10 col3\" >0.3761</td>\n",
       "      <td id=\"T_66109_row10_col4\" class=\"data row10 col4\" >0.7168</td>\n",
       "      <td id=\"T_66109_row10_col5\" class=\"data row10 col5\" >0.4924</td>\n",
       "      <td id=\"T_66109_row10_col6\" class=\"data row10 col6\" >0.4622</td>\n",
       "      <td id=\"T_66109_row10_col7\" class=\"data row10 col7\" >0.4901</td>\n",
       "      <td id=\"T_66109_row10_col8\" class=\"data row10 col8\" >0.0170</td>\n",
       "    </tr>\n",
       "    <tr>\n",
       "      <th id=\"T_66109_level0_row11\" class=\"row_heading level0 row11\" >ada</th>\n",
       "      <td id=\"T_66109_row11_col0\" class=\"data row11 col0\" >Ada Boost Classifier</td>\n",
       "      <td id=\"T_66109_row11_col1\" class=\"data row11 col1\" >0.9380</td>\n",
       "      <td id=\"T_66109_row11_col2\" class=\"data row11 col2\" >0.9387</td>\n",
       "      <td id=\"T_66109_row11_col3\" class=\"data row11 col3\" >0.3611</td>\n",
       "      <td id=\"T_66109_row11_col4\" class=\"data row11 col4\" >0.7545</td>\n",
       "      <td id=\"T_66109_row11_col5\" class=\"data row11 col5\" >0.4871</td>\n",
       "      <td id=\"T_66109_row11_col6\" class=\"data row11 col6\" >0.4586</td>\n",
       "      <td id=\"T_66109_row11_col7\" class=\"data row11 col7\" >0.4947</td>\n",
       "      <td id=\"T_66109_row11_col8\" class=\"data row11 col8\" >0.2260</td>\n",
       "    </tr>\n",
       "    <tr>\n",
       "      <th id=\"T_66109_level0_row12\" class=\"row_heading level0 row12\" >svm</th>\n",
       "      <td id=\"T_66109_row12_col0\" class=\"data row12 col0\" >SVM - Linear Kernel</td>\n",
       "      <td id=\"T_66109_row12_col1\" class=\"data row12 col1\" >0.9382</td>\n",
       "      <td id=\"T_66109_row12_col2\" class=\"data row12 col2\" >0.0000</td>\n",
       "      <td id=\"T_66109_row12_col3\" class=\"data row12 col3\" >0.3087</td>\n",
       "      <td id=\"T_66109_row12_col4\" class=\"data row12 col4\" >0.8304</td>\n",
       "      <td id=\"T_66109_row12_col5\" class=\"data row12 col5\" >0.4486</td>\n",
       "      <td id=\"T_66109_row12_col6\" class=\"data row12 col6\" >0.4232</td>\n",
       "      <td id=\"T_66109_row12_col7\" class=\"data row12 col7\" >0.4827</td>\n",
       "      <td id=\"T_66109_row12_col8\" class=\"data row12 col8\" >0.0150</td>\n",
       "    </tr>\n",
       "    <tr>\n",
       "      <th id=\"T_66109_level0_row13\" class=\"row_heading level0 row13\" >dummy</th>\n",
       "      <td id=\"T_66109_row13_col0\" class=\"data row13 col0\" >Dummy Classifier</td>\n",
       "      <td id=\"T_66109_row13_col1\" class=\"data row13 col1\" >0.9182</td>\n",
       "      <td id=\"T_66109_row13_col2\" class=\"data row13 col2\" >0.5000</td>\n",
       "      <td id=\"T_66109_row13_col3\" class=\"data row13 col3\" >0.0000</td>\n",
       "      <td id=\"T_66109_row13_col4\" class=\"data row13 col4\" >0.0000</td>\n",
       "      <td id=\"T_66109_row13_col5\" class=\"data row13 col5\" >0.0000</td>\n",
       "      <td id=\"T_66109_row13_col6\" class=\"data row13 col6\" >0.0000</td>\n",
       "      <td id=\"T_66109_row13_col7\" class=\"data row13 col7\" >0.0000</td>\n",
       "      <td id=\"T_66109_row13_col8\" class=\"data row13 col8\" >0.0100</td>\n",
       "    </tr>\n",
       "  </tbody>\n",
       "</table>\n"
      ],
      "text/plain": [
       "<pandas.io.formats.style.Styler at 0x7f5bce6ea310>"
      ]
     },
     "metadata": {},
     "output_type": "display_data"
    },
    {
     "data": {
      "text/html": [],
      "text/plain": [
       "<IPython.core.display.HTML object>"
      ]
     },
     "metadata": {},
     "output_type": "display_data"
    }
   ],
   "source": [
    "# 모델 비교\n",
    "best_model = compare_models(sort='F1', cross_validation=True)"
   ]
  },
  {
   "cell_type": "code",
   "execution_count": null,
   "id": "2917e510-44c7-4d16-bab6-0fc8c47bc609",
   "metadata": {},
   "outputs": [],
   "source": []
  }
 ],
 "metadata": {
  "kernelspec": {
   "display_name": "Python 3 (ipykernel)",
   "language": "python",
   "name": "python3"
  },
  "language_info": {
   "codemirror_mode": {
    "name": "ipython",
    "version": 3
   },
   "file_extension": ".py",
   "mimetype": "text/x-python",
   "name": "python",
   "nbconvert_exporter": "python",
   "pygments_lexer": "ipython3",
   "version": "3.11.7"
  },
  "widgets": {
   "application/vnd.jupyter.widget-state+json": {
    "state": {},
    "version_major": 2,
    "version_minor": 0
   }
  }
 },
 "nbformat": 4,
 "nbformat_minor": 5
}
